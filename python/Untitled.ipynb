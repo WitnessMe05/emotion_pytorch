{
 "cells": [
  {
   "cell_type": "code",
   "execution_count": 1,
   "metadata": {},
   "outputs": [],
   "source": [
    "import pandas as pd\n",
    "import numpy as np\n",
    "import gzip, pickle"
   ]
  },
  {
   "cell_type": "code",
   "execution_count": 72,
   "metadata": {},
   "outputs": [],
   "source": [
    "with gzip.open(\"/data/remote/pytorch_emotion/Feature/feature.pkl\") as ifp:\n",
    "    df = pickle.load(ifp)"
   ]
  },
  {
   "cell_type": "code",
   "execution_count": 4,
   "metadata": {},
   "outputs": [],
   "source": [
    "em = pd.read_csv(\"/data/remote/pytorch_emotion/Feature/emotion_classes.csv\")"
   ]
  },
  {
   "cell_type": "code",
   "execution_count": null,
   "metadata": {
    "scrolled": true
   },
   "outputs": [
    {
     "name": "stdout",
     "output_type": "stream",
     "text": [
      "0 / 4467131\n"
     ]
    }
   ],
   "source": [
    "%%time\n",
    "for i in range(df.shape[0]):\n",
    "    df[\"session\"] = df.name[i][0:5]\n",
    "    df[\"type\"] = df.name[i][7:12]\n",
    "    if i % 10000 == 0:\n",
    "        print(\"{} / {}\".format(i, df.shape[0]))"
   ]
  },
  {
   "cell_type": "code",
   "execution_count": 93,
   "metadata": {},
   "outputs": [
    {
     "data": {
      "text/html": [
       "<div>\n",
       "<style scoped>\n",
       "    .dataframe tbody tr th:only-of-type {\n",
       "        vertical-align: middle;\n",
       "    }\n",
       "\n",
       "    .dataframe tbody tr th {\n",
       "        vertical-align: top;\n",
       "    }\n",
       "\n",
       "    .dataframe thead th {\n",
       "        text-align: right;\n",
       "    }\n",
       "</style>\n",
       "<table border=\"1\" class=\"dataframe\">\n",
       "  <thead>\n",
       "    <tr style=\"text-align: right;\">\n",
       "      <th></th>\n",
       "      <th>name</th>\n",
       "      <th>frameTime</th>\n",
       "      <th>pcm_RMSenergy_sma</th>\n",
       "      <th>pcm_fftMag_mfcc_sma[1]</th>\n",
       "      <th>pcm_fftMag_mfcc_sma[2]</th>\n",
       "      <th>pcm_fftMag_mfcc_sma[3]</th>\n",
       "      <th>pcm_fftMag_mfcc_sma[4]</th>\n",
       "      <th>pcm_fftMag_mfcc_sma[5]</th>\n",
       "      <th>pcm_fftMag_mfcc_sma[6]</th>\n",
       "      <th>pcm_fftMag_mfcc_sma[7]</th>\n",
       "      <th>...</th>\n",
       "      <th>pcm_fftMag_mfcc_sma_de[9]</th>\n",
       "      <th>pcm_fftMag_mfcc_sma_de[10]</th>\n",
       "      <th>pcm_fftMag_mfcc_sma_de[11]</th>\n",
       "      <th>pcm_fftMag_mfcc_sma_de[12]</th>\n",
       "      <th>pcm_zcr_sma_de</th>\n",
       "      <th>voiceProb_sma_de</th>\n",
       "      <th>F0_sma_de</th>\n",
       "      <th>class</th>\n",
       "      <th>type</th>\n",
       "      <th>session</th>\n",
       "    </tr>\n",
       "  </thead>\n",
       "  <tbody>\n",
       "    <tr>\n",
       "      <th>4467126</th>\n",
       "      <td>Ses05M_script01_3_M018</td>\n",
       "      <td>1.87</td>\n",
       "      <td>0.000198</td>\n",
       "      <td>-3.459800</td>\n",
       "      <td>-5.763472</td>\n",
       "      <td>0.841579</td>\n",
       "      <td>-9.695216</td>\n",
       "      <td>4.484260</td>\n",
       "      <td>-9.267400</td>\n",
       "      <td>4.476427</td>\n",
       "      <td>...</td>\n",
       "      <td>-0.251568</td>\n",
       "      <td>-0.365525</td>\n",
       "      <td>1.263438</td>\n",
       "      <td>1.445976</td>\n",
       "      <td>-0.010667</td>\n",
       "      <td>-0.006270</td>\n",
       "      <td>0.0</td>\n",
       "      <td>?</td>\n",
       "      <td>scrip</td>\n",
       "      <td>Ses01</td>\n",
       "    </tr>\n",
       "    <tr>\n",
       "      <th>4467127</th>\n",
       "      <td>Ses05M_script01_3_M018</td>\n",
       "      <td>1.88</td>\n",
       "      <td>0.000195</td>\n",
       "      <td>-3.376133</td>\n",
       "      <td>-5.337474</td>\n",
       "      <td>1.874752</td>\n",
       "      <td>-9.042918</td>\n",
       "      <td>6.292750</td>\n",
       "      <td>-6.939490</td>\n",
       "      <td>9.076157</td>\n",
       "      <td>...</td>\n",
       "      <td>0.012340</td>\n",
       "      <td>0.221922</td>\n",
       "      <td>1.592537</td>\n",
       "      <td>1.574733</td>\n",
       "      <td>-0.008333</td>\n",
       "      <td>-0.005351</td>\n",
       "      <td>0.0</td>\n",
       "      <td>?</td>\n",
       "      <td>scrip</td>\n",
       "      <td>Ses01</td>\n",
       "    </tr>\n",
       "    <tr>\n",
       "      <th>4467128</th>\n",
       "      <td>Ses05M_script01_3_M018</td>\n",
       "      <td>1.89</td>\n",
       "      <td>0.000193</td>\n",
       "      <td>-3.508446</td>\n",
       "      <td>-5.726255</td>\n",
       "      <td>2.737298</td>\n",
       "      <td>-8.980531</td>\n",
       "      <td>6.181498</td>\n",
       "      <td>-6.482841</td>\n",
       "      <td>7.800995</td>\n",
       "      <td>...</td>\n",
       "      <td>0.271353</td>\n",
       "      <td>0.992430</td>\n",
       "      <td>1.109989</td>\n",
       "      <td>0.909039</td>\n",
       "      <td>-0.004083</td>\n",
       "      <td>-0.011039</td>\n",
       "      <td>0.0</td>\n",
       "      <td>?</td>\n",
       "      <td>scrip</td>\n",
       "      <td>Ses01</td>\n",
       "    </tr>\n",
       "    <tr>\n",
       "      <th>4467129</th>\n",
       "      <td>Ses05M_script01_3_M018</td>\n",
       "      <td>1.90</td>\n",
       "      <td>0.000198</td>\n",
       "      <td>-3.805887</td>\n",
       "      <td>-5.993629</td>\n",
       "      <td>4.214068</td>\n",
       "      <td>-7.692686</td>\n",
       "      <td>6.985946</td>\n",
       "      <td>-4.494845</td>\n",
       "      <td>8.533830</td>\n",
       "      <td>...</td>\n",
       "      <td>0.288189</td>\n",
       "      <td>1.509172</td>\n",
       "      <td>0.529629</td>\n",
       "      <td>0.115002</td>\n",
       "      <td>-0.001000</td>\n",
       "      <td>-0.009969</td>\n",
       "      <td>0.0</td>\n",
       "      <td>?</td>\n",
       "      <td>scrip</td>\n",
       "      <td>Ses01</td>\n",
       "    </tr>\n",
       "    <tr>\n",
       "      <th>4467130</th>\n",
       "      <td>Ses05M_script01_3_M018</td>\n",
       "      <td>1.90</td>\n",
       "      <td>0.000199</td>\n",
       "      <td>-4.270571</td>\n",
       "      <td>-7.124331</td>\n",
       "      <td>4.209899</td>\n",
       "      <td>-7.191917</td>\n",
       "      <td>6.929283</td>\n",
       "      <td>-3.908572</td>\n",
       "      <td>7.171572</td>\n",
       "      <td>...</td>\n",
       "      <td>0.131741</td>\n",
       "      <td>1.078309</td>\n",
       "      <td>0.125612</td>\n",
       "      <td>-0.279673</td>\n",
       "      <td>0.000500</td>\n",
       "      <td>-0.006122</td>\n",
       "      <td>0.0</td>\n",
       "      <td>?</td>\n",
       "      <td>scrip</td>\n",
       "      <td>Ses01</td>\n",
       "    </tr>\n",
       "  </tbody>\n",
       "</table>\n",
       "<p>5 rows × 37 columns</p>\n",
       "</div>"
      ],
      "text/plain": [
       "                           name  frameTime  pcm_RMSenergy_sma  \\\n",
       "4467126  Ses05M_script01_3_M018       1.87           0.000198   \n",
       "4467127  Ses05M_script01_3_M018       1.88           0.000195   \n",
       "4467128  Ses05M_script01_3_M018       1.89           0.000193   \n",
       "4467129  Ses05M_script01_3_M018       1.90           0.000198   \n",
       "4467130  Ses05M_script01_3_M018       1.90           0.000199   \n",
       "\n",
       "         pcm_fftMag_mfcc_sma[1]  pcm_fftMag_mfcc_sma[2]  \\\n",
       "4467126               -3.459800               -5.763472   \n",
       "4467127               -3.376133               -5.337474   \n",
       "4467128               -3.508446               -5.726255   \n",
       "4467129               -3.805887               -5.993629   \n",
       "4467130               -4.270571               -7.124331   \n",
       "\n",
       "         pcm_fftMag_mfcc_sma[3]  pcm_fftMag_mfcc_sma[4]  \\\n",
       "4467126                0.841579               -9.695216   \n",
       "4467127                1.874752               -9.042918   \n",
       "4467128                2.737298               -8.980531   \n",
       "4467129                4.214068               -7.692686   \n",
       "4467130                4.209899               -7.191917   \n",
       "\n",
       "         pcm_fftMag_mfcc_sma[5]  pcm_fftMag_mfcc_sma[6]  \\\n",
       "4467126                4.484260               -9.267400   \n",
       "4467127                6.292750               -6.939490   \n",
       "4467128                6.181498               -6.482841   \n",
       "4467129                6.985946               -4.494845   \n",
       "4467130                6.929283               -3.908572   \n",
       "\n",
       "         pcm_fftMag_mfcc_sma[7]  ...  pcm_fftMag_mfcc_sma_de[9]  \\\n",
       "4467126                4.476427  ...                  -0.251568   \n",
       "4467127                9.076157  ...                   0.012340   \n",
       "4467128                7.800995  ...                   0.271353   \n",
       "4467129                8.533830  ...                   0.288189   \n",
       "4467130                7.171572  ...                   0.131741   \n",
       "\n",
       "         pcm_fftMag_mfcc_sma_de[10]  pcm_fftMag_mfcc_sma_de[11]  \\\n",
       "4467126                   -0.365525                    1.263438   \n",
       "4467127                    0.221922                    1.592537   \n",
       "4467128                    0.992430                    1.109989   \n",
       "4467129                    1.509172                    0.529629   \n",
       "4467130                    1.078309                    0.125612   \n",
       "\n",
       "         pcm_fftMag_mfcc_sma_de[12]  pcm_zcr_sma_de  voiceProb_sma_de  \\\n",
       "4467126                    1.445976       -0.010667         -0.006270   \n",
       "4467127                    1.574733       -0.008333         -0.005351   \n",
       "4467128                    0.909039       -0.004083         -0.011039   \n",
       "4467129                    0.115002       -0.001000         -0.009969   \n",
       "4467130                   -0.279673        0.000500         -0.006122   \n",
       "\n",
       "         F0_sma_de  class   type  session  \n",
       "4467126        0.0      ?  scrip    Ses01  \n",
       "4467127        0.0      ?  scrip    Ses01  \n",
       "4467128        0.0      ?  scrip    Ses01  \n",
       "4467129        0.0      ?  scrip    Ses01  \n",
       "4467130        0.0      ?  scrip    Ses01  \n",
       "\n",
       "[5 rows x 37 columns]"
      ]
     },
     "execution_count": 93,
     "metadata": {},
     "output_type": "execute_result"
    }
   ],
   "source": [
    "df.tail()"
   ]
  },
  {
   "cell_type": "code",
   "execution_count": 5,
   "metadata": {},
   "outputs": [
    {
     "data": {
      "text/html": [
       "<div>\n",
       "<style scoped>\n",
       "    .dataframe tbody tr th:only-of-type {\n",
       "        vertical-align: middle;\n",
       "    }\n",
       "\n",
       "    .dataframe tbody tr th {\n",
       "        vertical-align: top;\n",
       "    }\n",
       "\n",
       "    .dataframe thead th {\n",
       "        text-align: right;\n",
       "    }\n",
       "</style>\n",
       "<table border=\"1\" class=\"dataframe\">\n",
       "  <thead>\n",
       "    <tr style=\"text-align: right;\">\n",
       "      <th></th>\n",
       "      <th>Unnamed: 0</th>\n",
       "      <th>TURN_NAME</th>\n",
       "      <th>EMOTION</th>\n",
       "    </tr>\n",
       "  </thead>\n",
       "  <tbody>\n",
       "    <tr>\n",
       "      <th>0</th>\n",
       "      <td>0</td>\n",
       "      <td>Ses01F_impro01_F000</td>\n",
       "      <td>neu</td>\n",
       "    </tr>\n",
       "    <tr>\n",
       "      <th>1</th>\n",
       "      <td>1</td>\n",
       "      <td>Ses01F_impro01_F001</td>\n",
       "      <td>neu</td>\n",
       "    </tr>\n",
       "    <tr>\n",
       "      <th>2</th>\n",
       "      <td>2</td>\n",
       "      <td>Ses01F_impro01_F002</td>\n",
       "      <td>neu</td>\n",
       "    </tr>\n",
       "    <tr>\n",
       "      <th>3</th>\n",
       "      <td>3</td>\n",
       "      <td>Ses01F_impro01_F003</td>\n",
       "      <td>xxx</td>\n",
       "    </tr>\n",
       "    <tr>\n",
       "      <th>4</th>\n",
       "      <td>4</td>\n",
       "      <td>Ses01F_impro01_F004</td>\n",
       "      <td>xxx</td>\n",
       "    </tr>\n",
       "    <tr>\n",
       "      <th>...</th>\n",
       "      <td>...</td>\n",
       "      <td>...</td>\n",
       "      <td>...</td>\n",
       "    </tr>\n",
       "    <tr>\n",
       "      <th>10033</th>\n",
       "      <td>10033</td>\n",
       "      <td>Ses05M_script03_2_M041</td>\n",
       "      <td>ang</td>\n",
       "    </tr>\n",
       "    <tr>\n",
       "      <th>10034</th>\n",
       "      <td>10034</td>\n",
       "      <td>Ses05M_script03_2_M042</td>\n",
       "      <td>ang</td>\n",
       "    </tr>\n",
       "    <tr>\n",
       "      <th>10035</th>\n",
       "      <td>10035</td>\n",
       "      <td>Ses05M_script03_2_M043</td>\n",
       "      <td>ang</td>\n",
       "    </tr>\n",
       "    <tr>\n",
       "      <th>10036</th>\n",
       "      <td>10036</td>\n",
       "      <td>Ses05M_script03_2_M044</td>\n",
       "      <td>ang</td>\n",
       "    </tr>\n",
       "    <tr>\n",
       "      <th>10037</th>\n",
       "      <td>10037</td>\n",
       "      <td>Ses05M_script03_2_M045</td>\n",
       "      <td>ang</td>\n",
       "    </tr>\n",
       "  </tbody>\n",
       "</table>\n",
       "<p>10038 rows × 3 columns</p>\n",
       "</div>"
      ],
      "text/plain": [
       "       Unnamed: 0               TURN_NAME EMOTION\n",
       "0               0     Ses01F_impro01_F000     neu\n",
       "1               1     Ses01F_impro01_F001     neu\n",
       "2               2     Ses01F_impro01_F002     neu\n",
       "3               3     Ses01F_impro01_F003     xxx\n",
       "4               4     Ses01F_impro01_F004     xxx\n",
       "...           ...                     ...     ...\n",
       "10033       10033  Ses05M_script03_2_M041     ang\n",
       "10034       10034  Ses05M_script03_2_M042     ang\n",
       "10035       10035  Ses05M_script03_2_M043     ang\n",
       "10036       10036  Ses05M_script03_2_M044     ang\n",
       "10037       10037  Ses05M_script03_2_M045     ang\n",
       "\n",
       "[10038 rows x 3 columns]"
      ]
     },
     "execution_count": 5,
     "metadata": {},
     "output_type": "execute_result"
    }
   ],
   "source": [
    "em"
   ]
  },
  {
   "cell_type": "code",
   "execution_count": 5,
   "metadata": {},
   "outputs": [],
   "source": [
    "need = list(data.columns)[2:-1]"
   ]
  },
  {
   "cell_type": "code",
   "execution_count": 7,
   "metadata": {},
   "outputs": [
    {
     "data": {
      "text/plain": [
       "'neu'"
      ]
     },
     "execution_count": 7,
     "metadata": {},
     "output_type": "execute_result"
    }
   ],
   "source": [
    "em.EMOTION[0]"
   ]
  },
  {
   "cell_type": "code",
   "execution_count": 8,
   "metadata": {},
   "outputs": [
    {
     "data": {
      "text/plain": [
       "(194, 32)"
      ]
     },
     "execution_count": 8,
     "metadata": {},
     "output_type": "execute_result"
    }
   ],
   "source": [
    "data[data.name == em.TURN_NAME[0]][need].to_numpy().shape"
   ]
  },
  {
   "cell_type": "code",
   "execution_count": 9,
   "metadata": {},
   "outputs": [
    {
     "name": "stdout",
     "output_type": "stream",
     "text": [
      "0 / 10038\n",
      "1000 / 10038\n",
      "2000 / 10038\n",
      "3000 / 10038\n",
      "4000 / 10038\n",
      "5000 / 10038\n",
      "6000 / 10038\n",
      "7000 / 10038\n",
      "8000 / 10038\n",
      "9000 / 10038\n",
      "10000 / 10038\n"
     ]
    }
   ],
   "source": [
    "leng = em.shape[0]\n",
    "emo = ['neu', 'ang', 'sad', 'hap', 'exc']\n",
    "x = []\n",
    "y = []\n",
    "ses = []\n",
    "tp = []\n",
    "for i in range(leng):\n",
    "    tmp = data[data.name == em.TURN_NAME[i]][need]\n",
    "    arr = tmp.to_numpy()\n",
    "    tmp_emo = em.EMOTION[i]\n",
    "    if tmp_emo in emo:\n",
    "        x.append(arr)\n",
    "        y.append(tmp_emo)\n",
    "        \n",
    "    if i % 1000 == 0:\n",
    "        print(\"{} / {}\".format(i, leng))\n",
    "data = np.array(x)\n",
    "label = np.array(y)\n",
    "    "
   ]
  },
  {
   "cell_type": "code",
   "execution_count": 10,
   "metadata": {},
   "outputs": [
    {
     "data": {
      "text/plain": [
       "(10038,)"
      ]
     },
     "execution_count": 10,
     "metadata": {},
     "output_type": "execute_result"
    }
   ],
   "source": [
    "data.shape"
   ]
  },
  {
   "cell_type": "code",
   "execution_count": 21,
   "metadata": {},
   "outputs": [
    {
     "data": {
      "text/plain": [
       "(194, 32)"
      ]
     },
     "execution_count": 21,
     "metadata": {},
     "output_type": "execute_result"
    }
   ],
   "source": [
    "data[0].shape"
   ]
  },
  {
   "cell_type": "code",
   "execution_count": 22,
   "metadata": {},
   "outputs": [
    {
     "data": {
      "text/plain": [
       "(137, 32)"
      ]
     },
     "execution_count": 22,
     "metadata": {},
     "output_type": "execute_result"
    }
   ],
   "source": [
    "data[1].shape"
   ]
  },
  {
   "cell_type": "code",
   "execution_count": 16,
   "metadata": {},
   "outputs": [
    {
     "data": {
      "text/plain": [
       "'neu'"
      ]
     },
     "execution_count": 16,
     "metadata": {},
     "output_type": "execute_result"
    }
   ],
   "source": [
    "label[1]"
   ]
  },
  {
   "cell_type": "code",
   "execution_count": 26,
   "metadata": {},
   "outputs": [
    {
     "ename": "ValueError",
     "evalue": "all the input array dimensions for the concatenation axis must match exactly, but along dimension 0, the array at index 0 has size 194 and the array at index 1 has size 137",
     "output_type": "error",
     "traceback": [
      "\u001b[0;31m---------------------------------------------------------------------------\u001b[0m",
      "\u001b[0;31mValueError\u001b[0m                                Traceback (most recent call last)",
      "\u001b[0;32m<ipython-input-26-68a0e80ff79a>\u001b[0m in \u001b[0;36m<module>\u001b[0;34m\u001b[0m\n\u001b[0;32m----> 1\u001b[0;31m \u001b[0mt\u001b[0m \u001b[0;34m=\u001b[0m \u001b[0mnp\u001b[0m\u001b[0;34m.\u001b[0m\u001b[0mdstack\u001b[0m\u001b[0;34m(\u001b[0m\u001b[0;34m(\u001b[0m\u001b[0mdata\u001b[0m\u001b[0;34m[\u001b[0m\u001b[0;36m0\u001b[0m\u001b[0;34m]\u001b[0m\u001b[0;34m,\u001b[0m \u001b[0mdata\u001b[0m\u001b[0;34m[\u001b[0m\u001b[0;36m1\u001b[0m\u001b[0;34m]\u001b[0m\u001b[0;34m)\u001b[0m\u001b[0;34m)\u001b[0m\u001b[0;34m\u001b[0m\u001b[0;34m\u001b[0m\u001b[0m\n\u001b[0m",
      "\u001b[0;32m<__array_function__ internals>\u001b[0m in \u001b[0;36mdstack\u001b[0;34m(*args, **kwargs)\u001b[0m\n",
      "\u001b[0;32m/usr/local/lib/python3.6/dist-packages/numpy/lib/shape_base.py\u001b[0m in \u001b[0;36mdstack\u001b[0;34m(tup)\u001b[0m\n\u001b[1;32m    719\u001b[0m     \u001b[0;32mif\u001b[0m \u001b[0;32mnot\u001b[0m \u001b[0misinstance\u001b[0m\u001b[0;34m(\u001b[0m\u001b[0marrs\u001b[0m\u001b[0;34m,\u001b[0m \u001b[0mlist\u001b[0m\u001b[0;34m)\u001b[0m\u001b[0;34m:\u001b[0m\u001b[0;34m\u001b[0m\u001b[0;34m\u001b[0m\u001b[0m\n\u001b[1;32m    720\u001b[0m         \u001b[0marrs\u001b[0m \u001b[0;34m=\u001b[0m \u001b[0;34m[\u001b[0m\u001b[0marrs\u001b[0m\u001b[0;34m]\u001b[0m\u001b[0;34m\u001b[0m\u001b[0;34m\u001b[0m\u001b[0m\n\u001b[0;32m--> 721\u001b[0;31m     \u001b[0;32mreturn\u001b[0m \u001b[0m_nx\u001b[0m\u001b[0;34m.\u001b[0m\u001b[0mconcatenate\u001b[0m\u001b[0;34m(\u001b[0m\u001b[0marrs\u001b[0m\u001b[0;34m,\u001b[0m \u001b[0;36m2\u001b[0m\u001b[0;34m)\u001b[0m\u001b[0;34m\u001b[0m\u001b[0;34m\u001b[0m\u001b[0m\n\u001b[0m\u001b[1;32m    722\u001b[0m \u001b[0;34m\u001b[0m\u001b[0m\n\u001b[1;32m    723\u001b[0m \u001b[0;34m\u001b[0m\u001b[0m\n",
      "\u001b[0;32m<__array_function__ internals>\u001b[0m in \u001b[0;36mconcatenate\u001b[0;34m(*args, **kwargs)\u001b[0m\n",
      "\u001b[0;31mValueError\u001b[0m: all the input array dimensions for the concatenation axis must match exactly, but along dimension 0, the array at index 0 has size 194 and the array at index 1 has size 137"
     ]
    }
   ],
   "source": [
    "t = np.dstack((data[0], data[1]))"
   ]
  },
  {
   "cell_type": "code",
   "execution_count": 19,
   "metadata": {},
   "outputs": [
    {
     "data": {
      "text/plain": [
       "(331, 32)"
      ]
     },
     "execution_count": 19,
     "metadata": {},
     "output_type": "execute_result"
    }
   ],
   "source": [
    "t.shape"
   ]
  },
  {
   "cell_type": "code",
   "execution_count": 25,
   "metadata": {},
   "outputs": [
    {
     "data": {
      "text/plain": [
       "(10592,)"
      ]
     },
     "execution_count": 25,
     "metadata": {},
     "output_type": "execute_result"
    }
   ],
   "source": [
    "np.append(data[0], data[1]).shape"
   ]
  },
  {
   "cell_type": "code",
   "execution_count": 28,
   "metadata": {},
   "outputs": [],
   "source": [
    "for i in range(data.shape[0]):\n",
    "    data[i].reshape((1, data[i].shape[0], 32))"
   ]
  },
  {
   "cell_type": "code",
   "execution_count": 29,
   "metadata": {},
   "outputs": [
    {
     "data": {
      "text/plain": [
       "(10038,)"
      ]
     },
     "execution_count": 29,
     "metadata": {},
     "output_type": "execute_result"
    }
   ],
   "source": [
    "data.shape"
   ]
  },
  {
   "cell_type": "code",
   "execution_count": 31,
   "metadata": {},
   "outputs": [
    {
     "data": {
      "text/plain": [
       "(194, 32)"
      ]
     },
     "execution_count": 31,
     "metadata": {},
     "output_type": "execute_result"
    }
   ],
   "source": [
    "data[0].shape"
   ]
  },
  {
   "cell_type": "code",
   "execution_count": 32,
   "metadata": {},
   "outputs": [],
   "source": [
    "def pprint(arr):\n",
    "    print(\"type:{}\".format(type(arr)))\n",
    "    print(\"shape: {}, dimension: {}, dtype:{}\".format(arr.shape, arr.ndim, arr.dtype))\n",
    "    print(\"Array's Data:\\n\", arr)"
   ]
  },
  {
   "cell_type": "code",
   "execution_count": null,
   "metadata": {},
   "outputs": [],
   "source": [
    "pprint(data)"
   ]
  },
  {
   "cell_type": "code",
   "execution_count": 34,
   "metadata": {},
   "outputs": [
    {
     "data": {
      "text/plain": [
       "10038"
      ]
     },
     "execution_count": 34,
     "metadata": {},
     "output_type": "execute_result"
    }
   ],
   "source": [
    "data.size"
   ]
  },
  {
   "cell_type": "code",
   "execution_count": 35,
   "metadata": {},
   "outputs": [
    {
     "data": {
      "text/plain": [
       "numpy.ndarray"
      ]
     },
     "execution_count": 35,
     "metadata": {},
     "output_type": "execute_result"
    }
   ],
   "source": [
    "type(data[0])"
   ]
  },
  {
   "cell_type": "code",
   "execution_count": 36,
   "metadata": {},
   "outputs": [
    {
     "data": {
      "text/plain": [
       "numpy.ndarray"
      ]
     },
     "execution_count": 36,
     "metadata": {},
     "output_type": "execute_result"
    }
   ],
   "source": [
    "type(data)"
   ]
  },
  {
   "cell_type": "code",
   "execution_count": 37,
   "metadata": {},
   "outputs": [],
   "source": [
    "y = np.ones((1,1,1))"
   ]
  },
  {
   "cell_type": "code",
   "execution_count": 38,
   "metadata": {},
   "outputs": [
    {
     "data": {
      "text/plain": [
       "array([[[1.]]])"
      ]
     },
     "execution_count": 38,
     "metadata": {},
     "output_type": "execute_result"
    }
   ],
   "source": [
    "y"
   ]
  },
  {
   "cell_type": "code",
   "execution_count": 40,
   "metadata": {},
   "outputs": [
    {
     "ename": "ValueError",
     "evalue": "all the input arrays must have same number of dimensions, but the array at index 0 has 3 dimension(s) and the array at index 1 has 2 dimension(s)",
     "output_type": "error",
     "traceback": [
      "\u001b[0;31m---------------------------------------------------------------------------\u001b[0m",
      "\u001b[0;31mValueError\u001b[0m                                Traceback (most recent call last)",
      "\u001b[0;32m<ipython-input-40-778018764c93>\u001b[0m in \u001b[0;36m<module>\u001b[0;34m\u001b[0m\n\u001b[0;32m----> 1\u001b[0;31m \u001b[0mnp\u001b[0m\u001b[0;34m.\u001b[0m\u001b[0mconcatenate\u001b[0m\u001b[0;34m(\u001b[0m\u001b[0;34m(\u001b[0m\u001b[0my\u001b[0m\u001b[0;34m,\u001b[0m\u001b[0mdata\u001b[0m\u001b[0;34m[\u001b[0m\u001b[0;36m0\u001b[0m\u001b[0;34m]\u001b[0m\u001b[0;34m)\u001b[0m\u001b[0;34m)\u001b[0m\u001b[0;34m\u001b[0m\u001b[0;34m\u001b[0m\u001b[0m\n\u001b[0m",
      "\u001b[0;32m<__array_function__ internals>\u001b[0m in \u001b[0;36mconcatenate\u001b[0;34m(*args, **kwargs)\u001b[0m\n",
      "\u001b[0;31mValueError\u001b[0m: all the input arrays must have same number of dimensions, but the array at index 0 has 3 dimension(s) and the array at index 1 has 2 dimension(s)"
     ]
    }
   ],
   "source": [
    "np.concatenate((y,data[0]))"
   ]
  },
  {
   "cell_type": "code",
   "execution_count": 42,
   "metadata": {},
   "outputs": [],
   "source": [
    "t = data[0].reshape(1, data[0].shape[0], 32)"
   ]
  },
  {
   "cell_type": "code",
   "execution_count": 43,
   "metadata": {},
   "outputs": [
    {
     "data": {
      "text/plain": [
       "(1, 194, 32)"
      ]
     },
     "execution_count": 43,
     "metadata": {},
     "output_type": "execute_result"
    }
   ],
   "source": [
    "t.shape"
   ]
  },
  {
   "cell_type": "code",
   "execution_count": 45,
   "metadata": {},
   "outputs": [],
   "source": [
    "s = data[1].reshape(1, data[1].shape[0], 32)"
   ]
  },
  {
   "cell_type": "code",
   "execution_count": 48,
   "metadata": {},
   "outputs": [
    {
     "data": {
      "text/plain": [
       "3413"
      ]
     },
     "execution_count": 48,
     "metadata": {},
     "output_type": "execute_result"
    }
   ],
   "source": [
    "ma = []\n",
    "for i in range(data.shape[0]):\n",
    "    ma.append(data[i].shape[0])\n",
    "max(ma)"
   ]
  },
  {
   "cell_type": "code",
   "execution_count": 57,
   "metadata": {},
   "outputs": [],
   "source": [
    "a = [[1,2],[3,4]]\n",
    "b = [[3,4], [4,5]]"
   ]
  },
  {
   "cell_type": "code",
   "execution_count": 58,
   "metadata": {},
   "outputs": [],
   "source": [
    "a = np.array(a)\n",
    "b = np.array(b)"
   ]
  },
  {
   "cell_type": "code",
   "execution_count": 59,
   "metadata": {},
   "outputs": [
    {
     "data": {
      "text/plain": [
       "(2, 2)"
      ]
     },
     "execution_count": 59,
     "metadata": {},
     "output_type": "execute_result"
    }
   ],
   "source": [
    "a.shape"
   ]
  },
  {
   "cell_type": "code",
   "execution_count": 60,
   "metadata": {},
   "outputs": [
    {
     "data": {
      "text/plain": [
       "array([[1, 2],\n",
       "       [3, 4]])"
      ]
     },
     "execution_count": 60,
     "metadata": {},
     "output_type": "execute_result"
    }
   ],
   "source": [
    "a"
   ]
  },
  {
   "cell_type": "code",
   "execution_count": 70,
   "metadata": {},
   "outputs": [],
   "source": [
    "exc = np.where(label == 'exc')[0]\n",
    "hap = np.where(label == 'hap')[0]\n",
    "ang = np.where(label == 'ang')[0]\n",
    "neu = np.where(label == 'neu')[0]\n",
    "sad = np.where(label == 'sad')[0]"
   ]
  },
  {
   "cell_type": "code",
   "execution_count": 75,
   "metadata": {},
   "outputs": [],
   "source": [
    "name = df.name.to_numpy()"
   ]
  },
  {
   "cell_type": "code",
   "execution_count": 76,
   "metadata": {},
   "outputs": [
    {
     "data": {
      "text/plain": [
       "array(['Ses01M_script03_1_M031', 'Ses01M_script03_1_M031',\n",
       "       'Ses01M_script03_1_M031', ..., 'Ses05M_script01_3_M018',\n",
       "       'Ses05M_script01_3_M018', 'Ses05M_script01_3_M018'], dtype=object)"
      ]
     },
     "execution_count": 76,
     "metadata": {},
     "output_type": "execute_result"
    }
   ],
   "source": [
    "name"
   ]
  },
  {
   "cell_type": "code",
   "execution_count": 81,
   "metadata": {},
   "outputs": [
    {
     "data": {
      "text/plain": [
       "(array([0, 1, 2, 3, 4]),)"
      ]
     },
     "execution_count": 81,
     "metadata": {},
     "output_type": "execute_result"
    }
   ],
   "source": [
    "np.where(name[0:5] == \"Ses01M_script03_1_M031\")"
   ]
  },
  {
   "cell_type": "code",
   "execution_count": 79,
   "metadata": {},
   "outputs": [
    {
     "data": {
      "text/plain": [
       "'Ses01'"
      ]
     },
     "execution_count": 79,
     "metadata": {},
     "output_type": "execute_result"
    }
   ],
   "source": [
    "name[0][0:5]"
   ]
  },
  {
   "cell_type": "code",
   "execution_count": null,
   "metadata": {},
   "outputs": [],
   "source": []
  }
 ],
 "metadata": {
  "kernelspec": {
   "display_name": "Python 3",
   "language": "python",
   "name": "python3"
  },
  "language_info": {
   "codemirror_mode": {
    "name": "ipython",
    "version": 3
   },
   "file_extension": ".py",
   "mimetype": "text/x-python",
   "name": "python",
   "nbconvert_exporter": "python",
   "pygments_lexer": "ipython3",
   "version": "3.6.9"
  }
 },
 "nbformat": 4,
 "nbformat_minor": 4
}
